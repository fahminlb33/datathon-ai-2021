{
 "cells": [
  {
   "cell_type": "code",
   "execution_count": null,
   "source": [
    "from collections import defaultdict\r\n",
    "\r\n",
    "import numpy as np\r\n",
    "import pandas as pd\r\n",
    "import matplotlib.pyplot as plt\r\n",
    "\r\n",
    "import networkx as nx\r\n",
    "import EoN\r\n",
    "\r\n",
    "#plt.style.use(\"plot_style.txt\")"
   ],
   "outputs": [],
   "metadata": {}
  },
  {
   "cell_type": "code",
   "execution_count": null,
   "source": [
    "\"\"\"\r\n",
    "1) Take the square root of the number X; we'll call it N.\r\n",
    "2) Set N equal to the ceiling of N (round up to the nearest integer).\r\n",
    "3) Test for (X % N). If N divides evenly into X, we found our first number.\r\n",
    "  if 0, divide X by N to get M. M and N are our numbers\r\n",
    "  if not 0, increment N by 1 and start step 3 over.\r\n",
    "https://stackoverflow.com/questions/16266931/input-an-integer-find-the-two-closest-integers-which-when-multiplied-equal-th\r\n",
    "\"\"\"\r\n",
    "def sqrt_int(X: int):\r\n",
    "    N = np.floor(np.sqrt(X))\r\n",
    "    while bool(X % N):\r\n",
    "        N -= 1\r\n",
    "    M = X // N\r\n",
    "    return M, N"
   ],
   "outputs": [],
   "metadata": {}
  },
  {
   "cell_type": "code",
   "execution_count": null,
   "source": [
    "def run_simulation1(x=100.0, y=100.0, initial_infected=0.05, infection_rate=2.0, recovery_rate=1.0, vaccination_rate=0.02):\r\n",
    "    G = nx.grid_2d_graph(x, y)\r\n",
    "\r\n",
    "    #the spontaneous transitions\r\n",
    "    H = nx.DiGraph()\r\n",
    "    H.add_edge('S', 'V', rate=vaccination_rate)\r\n",
    "    H.add_edge('I', 'R', rate=recovery_rate)  # gamma  \r\n",
    "\r\n",
    "    #the induced transitions\r\n",
    "    J = nx.DiGraph()\r\n",
    "    J.add_edge(('I', 'S'), ('I', 'I'), rate=infection_rate) # tau\r\n",
    "\r\n",
    "    bounds = np.ceil(np.divide(np.array(sqrt_int(x * y * initial_infected)), 2))\r\n",
    "    x_lower_bound = np.floor(np.divide(x, 2)) - bounds[0]\r\n",
    "    x_upper_bound = np.floor(np.divide(x, 2)) + bounds[0]\r\n",
    "    y_lower_bound = np.floor(np.divide(y, 2)) - bounds[1]\r\n",
    "    y_upper_bound = np.floor(np.divide(y, 2)) + bounds[1]\r\n",
    "\r\n",
    "    #we'll initially infect those near the middle\r\n",
    "    IC = defaultdict(lambda: 'S')\r\n",
    "    initial_infections = [(u, v) for (u, v) in G if x_lower_bound < u < x_upper_bound and y_lower_bound < v < y_upper_bound]\r\n",
    "    for node in initial_infections:\r\n",
    "        IC[node] = 'I'\r\n",
    "\r\n",
    "    initial_infections_count = len(initial_infections)\r\n",
    "    initial_infections_percentage = np.divide(len(initial_infections), x*y)\r\n",
    "    print(\"Initial infected population: {} ~ {:.2%}\".format(initial_infections_count, initial_infections_percentage))\r\n",
    "\r\n",
    "    \r\n",
    "    #create simulation\r\n",
    "    pos = {node:node for node in G}\r\n",
    "    return_statuses = ['S', 'I', 'R', 'V']\r\n",
    "    color_dict = {'S': '#009a80','I':'#ff2000', 'R':'gray','V': '#5AB3E6'}\r\n",
    "    sim_kwargs = {'color_dict': color_dict, 'pos': pos, 'tex': False}\r\n",
    "\r\n",
    "    simulation = EoN.Gillespie_simple_contagion(G, H, J, IC, return_statuses, tmax=100, return_full_data=True, sim_kwargs=sim_kwargs)\r\n",
    "\r\n",
    "    return (initial_infections_count, initial_infections_percentage, simulation)"
   ],
   "outputs": [],
   "metadata": {}
  },
  {
   "cell_type": "code",
   "execution_count": null,
   "source": [
    "def plot_simulation_metrics(sim, filename):\r\n",
    "    fig, (ax1, ax2) = plt.subplots(2, 1, figsize=(6, 5))\r\n",
    "\r\n",
    "    t = sim.t()\r\n",
    "    S = sim._summary_[1]['S']\r\n",
    "    I = sim._summary_[1]['I']\r\n",
    "    R = sim._summary_[1]['R']\r\n",
    "    V = sim._summary_[1]['V']\r\n",
    "\r\n",
    "    # SIRV\r\n",
    "    ax1.plot(t, S, label=\"Susceptible\")\r\n",
    "    ax1.plot(t, I, label=\"Infectious\")\r\n",
    "    ax1.plot(t, R, label=\"Recovered\")\r\n",
    "    ax1.plot(t, V, label=\"Vaccinated\")\r\n",
    "\r\n",
    "    ax1.set_title(\"SIRV\")\r\n",
    "    ax1.set_xlim([t[0], t[-1]])\r\n",
    "    ax1.set_ylim([0, S[0]])\r\n",
    "    ax1.legend()\r\n",
    "\r\n",
    "    # Infectious\r\n",
    "    xpos = t[np.argmax(I)]\r\n",
    "\r\n",
    "    ax2.plot(t, I)\r\n",
    "    ax2.axvline(x=xpos, c=\"black\")\r\n",
    "    ax2.text(x=xpos + 1, y=25, s=str(np.max(I)))\r\n",
    "\r\n",
    "    ax2.set_title(\"Infectious (I) Compartment\")\r\n",
    "    ax2.set_xlim([t[0], t[-1]])\r\n",
    "    ax2.set_ylim([0, np.max(I)])\r\n",
    "\r\n",
    "    plt.tight_layout()\r\n",
    "    plt.savefig(filename)\r\n",
    "    plt.show()"
   ],
   "outputs": [],
   "metadata": {}
  },
  {
   "cell_type": "code",
   "execution_count": null,
   "source": [
    "def plot_simulation_graph(sim, time, filename, node_size=4):\r\n",
    "    sim.display(time, node_size=node_size, ts_plots=[['S', 'I', 'R', 'V']])\r\n",
    "    plt.savefig(filename)"
   ],
   "outputs": [],
   "metadata": {}
  },
  {
   "cell_type": "code",
   "execution_count": null,
   "source": [
    "def render_simulation(sim, filename, node_size=4):\r\n",
    "    ani = sim.animate(frame_times=np.linspace(0, sim._t_[-1], 201), ts_plots=[['S', 'I', 'R', 'V']], node_size=node_size)\r\n",
    "    ani.save(filename, fps=60, dpi=200, bitrate=1000, extra_args=['-vcodec', 'libx264', '-pix_fmt', 'yuv420p'])"
   ],
   "outputs": [],
   "metadata": {}
  },
  {
   "cell_type": "code",
   "execution_count": null,
   "source": [
    "grids = [(x * 1000, *sqrt_int(x * 1000)) for x in [7, 11, 30, 65, 85, 120]]\r\n",
    "pd.DataFrame(grids, columns=[\"N\", \"x\", \"y\"])"
   ],
   "outputs": [],
   "metadata": {}
  },
  {
   "cell_type": "code",
   "execution_count": null,
   "source": [
    "# random test\r\n",
    "#grid_x, grid_y = 64, 125\r\n",
    "#vac = 0.01\r\n",
    "#beta = 2.0\r\n",
    "#gamma = 1.0\r\n",
    "\r\n",
    "# https://www.ncbi.nlm.nih.gov/pmc/articles/PMC7570398/\r\n",
    "#grid_x, grid_y = 64, 125\r\n",
    "#beta = 0.0561215\r\n",
    "#gamma = 0.0455331\r\n",
    "#vac = 0.1 # random\r\n",
    "\r\n",
    "grid_x, grid_y = 100, 70\r\n",
    "vac = 0.0041\r\n",
    "filename = \"sirv-sim1-s1-p7\"\r\n",
    "\r\n",
    "# Phase 41, 23Jun2021-01Jul2021 (most infectious) [SKENARIO 1]\r\n",
    "beta = 0.156533\r\n",
    "gamma = 0.018125\r\n",
    "\r\n",
    "# Phase 47, 24Aug2021-07Sep2021 (latest) [SKENARIO 2]\r\n",
    "#beta = 0.037300\r\n",
    "#gamma = 0.092772\r\n",
    "\r\n",
    "sim1 = run_simulation1(grid_x, grid_y, 0.05, beta, gamma, vac)"
   ],
   "outputs": [],
   "metadata": {}
  },
  {
   "cell_type": "code",
   "execution_count": null,
   "source": [
    "plot_simulation_metrics(sim1, \"img-2/\" + filename + \"-graph.jpg\")"
   ],
   "outputs": [],
   "metadata": {}
  },
  {
   "cell_type": "code",
   "execution_count": null,
   "source": [
    "plot_simulation_graph(sim1, 100, \"img-2/\" + filename + \"-spread.jpg\")"
   ],
   "outputs": [],
   "metadata": {}
  },
  {
   "cell_type": "code",
   "execution_count": null,
   "source": [
    "render_simulation(sim1, \"render/\" + filename + \".mp4\")"
   ],
   "outputs": [],
   "metadata": {}
  },
  {
   "cell_type": "code",
   "execution_count": null,
   "source": [
    "#run all scenarios\r\n",
    "vac = 0.0041\r\n",
    "grid_run = [\r\n",
    "    (100, 70, 0.156533, 0.018125, \"sirv-sim1-s1-p7\"),\r\n",
    "    (100, 70, 0.037300, 0.092772, \"sirv-sim1-s2-p7\"),\r\n",
    "    (110, 100, 0.156533, 0.018125, \"sirv-sim2-s1-p11\"),\r\n",
    "    (110, 100, 0.037300, 0.092772, \"sirv-sim2-s2-p11\"),\r\n",
    "    (200, 150, 0.156533, 0.018125, \"sirv-sim3-s1-p30\"),\r\n",
    "    (200, 150, 0.037300, 0.092772, \"sirv-sim3-s2-p30\"),\r\n",
    "\r\n",
    "    (260, 250, 0.037300, 0.092772, \"sirv-sim4-s2-p65\"),\r\n",
    "    (340, 250, 0.037300, 0.092772, \"sirv-sim5-s2-p85\"),\r\n",
    "    (375, 320, 0.037300, 0.092772, \"sirv-sim6-s2-p120\"),\r\n",
    "]\r\n",
    "\r\n",
    "results = []\r\n",
    "\r\n",
    "for grid_x, grid_y, beta, gamma, simname in grid_run:\r\n",
    "    inf_initial_count, inf_initial_percentage, sim = run_simulation1(grid_x, grid_y, 0.05, beta, gamma, vac)\r\n",
    "    total_inf = (sim.I() + sim.R())[-1]\r\n",
    "    top_inf = np.max(sim.I())\r\n",
    "\r\n",
    "    print(\"Simulation:       \", simname)\r\n",
    "    print(\"Infection rate:   \", beta)\r\n",
    "    print(\"Recovery rate:    \", gamma)\r\n",
    "    print(\"Vaccination rate: \", vac)\r\n",
    "    print(\"Initial infected: \", inf_initial_count, \" ~ \", inf_initial_percentage)\r\n",
    "    print(\"Most infected:    \", top_inf)\r\n",
    "    print(\"Total infected:   \", total_inf)\r\n",
    "\r\n",
    "    results.append((simname, beta, gamma, vac, grid_x * grid_y, inf_initial_count, inf_initial_percentage, top_inf, total_inf))\r\n",
    "\r\n",
    "    plot_simulation_metrics(sim, \"img-2/\" + simname + \"-graph.jpg\")\r\n",
    "    plot_simulation_graph(sim, 100, \"img-2/\" + simname + \"-spread.jpg\")\r\n",
    "    render_simulation(sim, \"render/\" + simname + \".mp4\")"
   ],
   "outputs": [],
   "metadata": {}
  },
  {
   "cell_type": "code",
   "execution_count": null,
   "source": [
    "df = pd.DataFrame(results, columns=[\"simulation\", \"beta\", \"gamma\", \"vac\", \"population\", \"inf_initial_count\", \"inf_initial_percentage\", \"top_inf\", \"total_inf\"])\r\n",
    "df[\"inf_ratio\"] = df[\"total_inf\"] / df[\"population\"]\r\n",
    "df.to_csv(\"sim_summary.csv\", index=None)\r\n",
    "df"
   ],
   "outputs": [],
   "metadata": {}
  },
  {
   "cell_type": "code",
   "execution_count": null,
   "source": [],
   "outputs": [],
   "metadata": {}
  }
 ],
 "metadata": {
  "orig_nbformat": 4,
  "language_info": {
   "name": "python",
   "version": "3.9.6",
   "mimetype": "text/x-python",
   "codemirror_mode": {
    "name": "ipython",
    "version": 3
   },
   "pygments_lexer": "ipython3",
   "nbconvert_exporter": "python",
   "file_extension": ".py"
  },
  "kernelspec": {
   "name": "python3",
   "display_name": "Python 3.9.6 64-bit ('datathon2021': conda)"
  },
  "interpreter": {
   "hash": "3de24ff1d29fe3d474c60eb7cd6a7c322df53a8f2761b3ad07044e60de61a801"
  }
 },
 "nbformat": 4,
 "nbformat_minor": 2
}