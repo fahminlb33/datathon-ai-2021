{
 "cells": [
  {
   "cell_type": "code",
   "execution_count": null,
   "source": [
    "import pandas as pd\r\n",
    "import numpy as np\r\n",
    "import matplotlib.pyplot as plt\r\n",
    "import matplotlib.ticker as mtick\r\n",
    "\r\n",
    "plt.style.use(\"plot_style.txt\")"
   ],
   "outputs": [],
   "metadata": {}
  },
  {
   "cell_type": "code",
   "execution_count": null,
   "source": [
    "df_kasus = pd.read_csv(\"dataset/2021_ID_Region_Mobility_Report.csv\")\r\n",
    "df_kasus.info()"
   ],
   "outputs": [],
   "metadata": {}
  },
  {
   "cell_type": "code",
   "execution_count": null,
   "source": [
    "df_kasus.head()"
   ],
   "outputs": [],
   "metadata": {}
  },
  {
   "cell_type": "code",
   "execution_count": null,
   "source": [
    "df_kasus.index = pd.to_datetime(df_kasus[\"date\"])\r\n",
    "df_kasus_clean = df_kasus.iloc[:, 9:]\r\n",
    "df_kasus_clean = df_kasus_clean.astype(\"float64\")\r\n",
    "df_kasus_clean = df_kasus_clean.rename(columns={\r\n",
    "    df_kasus_clean.columns[0]: \"retail_recreation\",\r\n",
    "    df_kasus_clean.columns[1]: \"grocery_pharmacy\",\r\n",
    "    df_kasus_clean.columns[2]: \"parks\",\r\n",
    "    df_kasus_clean.columns[3]: \"transit_stations\",\r\n",
    "    df_kasus_clean.columns[4]: \"workplaces\",\r\n",
    "    df_kasus_clean.columns[5]: \"residential\"\r\n",
    "})\r\n",
    "df_kasus_clean[\"mean\"] = df_kasus_clean.mean(axis=1)\r\n",
    "df_kasus_clean.tail()"
   ],
   "outputs": [],
   "metadata": {}
  },
  {
   "cell_type": "code",
   "execution_count": null,
   "source": [
    "axes = df_kasus_clean.loc[\"2021-8-1\":].iloc[:, :-1].resample(\"D\").mean().plot(\r\n",
    "    subplots=True,\r\n",
    "    layout=(3, 2),\r\n",
    "    figsize=(8, 8),\r\n",
    "    legend=False,\r\n",
    "    title=[\"Retail/Recreation\", \"Grocery/Pharmacy\", \"Parks\", \"Transit Stations\", \"Workplaces\", \"Residential\"],\r\n",
    "    xlabel=\"Tanggal\",\r\n",
    "    ylabel=\"Perubahan Mobilitas\"\r\n",
    ")\r\n",
    "\r\n",
    "for i, ax in enumerate(axes.ravel()):\r\n",
    "    ax.yaxis.set_major_formatter(mtick.PercentFormatter())\r\n",
    "    if (i % 2 != 0):\r\n",
    "        ax.axes.yaxis.set_label_text('')"
   ],
   "outputs": [],
   "metadata": {}
  },
  {
   "cell_type": "code",
   "execution_count": null,
   "source": [
    "fig, ax = plt.subplots()\r\n",
    "df_kasus_clean[\"mean\"].resample(\"W\").mean().plot(ax=ax, title=\"Rata-Rata Mobilitas\")\r\n",
    "ax.yaxis.set_major_formatter(mtick.PercentFormatter())\r\n",
    "ax.set_xlabel(\"Tanggal\")\r\n",
    "ax.set_ylabel(\"Jumlah Kasus\")"
   ],
   "outputs": [],
   "metadata": {}
  },
  {
   "cell_type": "code",
   "execution_count": null,
   "source": [],
   "outputs": [],
   "metadata": {}
  }
 ],
 "metadata": {
  "orig_nbformat": 4,
  "language_info": {
   "name": "python",
   "version": "3.9.6",
   "mimetype": "text/x-python",
   "codemirror_mode": {
    "name": "ipython",
    "version": 3
   },
   "pygments_lexer": "ipython3",
   "nbconvert_exporter": "python",
   "file_extension": ".py"
  },
  "kernelspec": {
   "name": "python3",
   "display_name": "Python 3.9.6 64-bit ('datathon2021': conda)"
  },
  "interpreter": {
   "hash": "3de24ff1d29fe3d474c60eb7cd6a7c322df53a8f2761b3ad07044e60de61a801"
  }
 },
 "nbformat": 4,
 "nbformat_minor": 2
}